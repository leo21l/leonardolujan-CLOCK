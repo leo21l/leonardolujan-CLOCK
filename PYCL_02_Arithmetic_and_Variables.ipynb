{
  "nbformat": 4,
  "nbformat_minor": 0,
  "metadata": {
    "colab": {
      "provenance": [],
      "toc_visible": true,
      "include_colab_link": true
    },
    "kernelspec": {
      "name": "python3",
      "display_name": "Python 3"
    },
    "language_info": {
      "name": "python"
    }
  },
  "cells": [
    {
      "cell_type": "markdown",
      "metadata": {
        "id": "view-in-github",
        "colab_type": "text"
      },
      "source": [
        "<a href=\"https://colab.research.google.com/github/leo21l/leonardolujan-CLOCK/blob/main/PYCL_02_Arithmetic_and_Variables.ipynb\" target=\"_parent\"><img src=\"https://colab.research.google.com/assets/colab-badge.svg\" alt=\"Open In Colab\"/></a>"
      ]
    },
    {
      "cell_type": "markdown",
      "metadata": {
        "id": "Qx1Kgg_fbw-1"
      },
      "source": [
        "# A Python Introduction for New (and not-so-new) Programmers\n",
        "## Part 02: Arithmetic and Variables"
      ]
    },
    {
      "cell_type": "markdown",
      "metadata": {
        "id": "gXLKsMMggL7_"
      },
      "source": [
        "*This Python Notebook is part of a sequence authored by [Timothy R James](https://timothyrjames.com/) - feel free to modify, copy, share, or use for your own purposes.*\n",
        "\n",
        "---"
      ]
    },
    {
      "cell_type": "markdown",
      "metadata": {
        "id": "gUEYYLgiitE9"
      },
      "source": [
        "In this Notebook file, we'll talk about basic arithmetic in Python, and introduce the concept of **variables**."
      ]
    },
    {
      "cell_type": "markdown",
      "metadata": {
        "id": "HY7a_uDFcCFw"
      },
      "source": [
        "## Basic Python Arithmetic"
      ]
    },
    {
      "cell_type": "markdown",
      "metadata": {
        "id": "xmFKhnP6cGta"
      },
      "source": [
        "Let's start out with some really simple Python to perform arithmetic. Adding numbers is a good place to start. For example, we can enter 1 + 1 (with no semicolons or other syntax). Push that play button below, and you'll see the result of Python interpreting \"1 + 1\"."
      ]
    },
    {
      "cell_type": "code",
      "metadata": {
        "id": "4Xoe2spRfwV0",
        "outputId": "18120b0e-9997-4af7-f621-f6cbee32d46d",
        "colab": {
          "base_uri": "https://localhost:8080/"
        }
      },
      "source": [
        "1 + 1"
      ],
      "execution_count": 2,
      "outputs": [
        {
          "output_type": "execute_result",
          "data": {
            "text/plain": [
              "2"
            ]
          },
          "metadata": {},
          "execution_count": 2
        }
      ]
    },
    {
      "cell_type": "markdown",
      "metadata": {
        "id": "USfboZa78mMX"
      },
      "source": [
        "We aren't limited to just two numbers at a time. We can add several numbers together in a single statement - we do not have to enter them one by one. Try running each of the code blocks below."
      ]
    },
    {
      "cell_type": "code",
      "metadata": {
        "id": "QqgkVFcldPB4",
        "outputId": "1a515f41-49c7-4f74-ee85-4d57875c42bb",
        "colab": {
          "base_uri": "https://localhost:8080/"
        }
      },
      "source": [
        "1 + 1 + 1"
      ],
      "execution_count": 3,
      "outputs": [
        {
          "output_type": "execute_result",
          "data": {
            "text/plain": [
              "3"
            ]
          },
          "metadata": {},
          "execution_count": 3
        }
      ]
    },
    {
      "cell_type": "code",
      "source": [
        "1 + 2 + 3 + 4"
      ],
      "metadata": {
        "id": "jZOEfMuiav6A",
        "outputId": "baa6f167-d75b-49b0-c0a5-a9f2c658bf18",
        "colab": {
          "base_uri": "https://localhost:8080/"
        }
      },
      "execution_count": 4,
      "outputs": [
        {
          "output_type": "execute_result",
          "data": {
            "text/plain": [
              "10"
            ]
          },
          "metadata": {},
          "execution_count": 4
        }
      ]
    },
    {
      "cell_type": "code",
      "source": [
        "1 + 10 + 100 + 1000 + 10000"
      ],
      "metadata": {
        "id": "vjRoMQVnaxy8",
        "outputId": "7bd77dae-1e0a-4fc1-d758-02fa2822df0b",
        "colab": {
          "base_uri": "https://localhost:8080/"
        }
      },
      "execution_count": 5,
      "outputs": [
        {
          "output_type": "execute_result",
          "data": {
            "text/plain": [
              "11111"
            ]
          },
          "metadata": {},
          "execution_count": 5
        }
      ]
    },
    {
      "cell_type": "markdown",
      "source": [
        "Note that you can have 0, 1, or more spaces between your numbers and the plus sign - both of the following will work the same way. Spaces (along with tabs) are *whitespace* - we can place as many between our numbers and plus signs as we like."
      ],
      "metadata": {
        "id": "yULl56MK18C4"
      }
    },
    {
      "cell_type": "code",
      "source": [
        "1+10+100+1000+10000"
      ],
      "metadata": {
        "id": "vbtOwhZU2DmS",
        "outputId": "6ed26688-55e0-4423-e16e-461232fcd83b",
        "colab": {
          "base_uri": "https://localhost:8080/"
        }
      },
      "execution_count": 6,
      "outputs": [
        {
          "output_type": "execute_result",
          "data": {
            "text/plain": [
              "11111"
            ]
          },
          "metadata": {},
          "execution_count": 6
        }
      ]
    },
    {
      "cell_type": "code",
      "source": [
        "1 +  10 +100 +    1000 +           10000"
      ],
      "metadata": {
        "id": "IsGUbdkj2GJ7",
        "outputId": "0b04ee06-409c-4c37-8515-877fc87a510e",
        "colab": {
          "base_uri": "https://localhost:8080/"
        }
      },
      "execution_count": 7,
      "outputs": [
        {
          "output_type": "execute_result",
          "data": {
            "text/plain": [
              "11111"
            ]
          },
          "metadata": {},
          "execution_count": 7
        }
      ]
    },
    {
      "cell_type": "markdown",
      "source": [
        "Note that it's typical to see a single space between numbers and symbols. The code above would most commonly be written like this:"
      ],
      "metadata": {
        "id": "OPdiSOgJRyxL"
      }
    },
    {
      "cell_type": "code",
      "source": [
        "1 + 10 + 100 + 1000 + 10000"
      ],
      "metadata": {
        "id": "shKsgx8KR2US",
        "outputId": "2d07f63d-ea52-4326-f546-d08311fac957",
        "colab": {
          "base_uri": "https://localhost:8080/"
        }
      },
      "execution_count": 8,
      "outputs": [
        {
          "output_type": "execute_result",
          "data": {
            "text/plain": [
              "11111"
            ]
          },
          "metadata": {},
          "execution_count": 8
        }
      ]
    },
    {
      "cell_type": "markdown",
      "metadata": {
        "id": "6jZMy6hPhumx"
      },
      "source": [
        "We can do more than just simple addition. We can also perform subtraction. Try running the code below (*I'll stop suggesting that now, but you can keep running code as much as you want, and I encourage you to do so*)."
      ]
    },
    {
      "cell_type": "code",
      "metadata": {
        "id": "feAknGMJhw_P",
        "outputId": "fefb197e-697a-47e9-d1ae-a66db955c5f3",
        "colab": {
          "base_uri": "https://localhost:8080/"
        }
      },
      "source": [
        "100 - 21"
      ],
      "execution_count": 10,
      "outputs": [
        {
          "output_type": "execute_result",
          "data": {
            "text/plain": [
              "79"
            ]
          },
          "metadata": {},
          "execution_count": 10
        }
      ]
    },
    {
      "cell_type": "markdown",
      "metadata": {
        "id": "-cn1xOzv8oac"
      },
      "source": [
        "Again, just like with addition, we can subtract several numbers at the same time. "
      ]
    },
    {
      "cell_type": "code",
      "source": [
        "900 - 300 - 50"
      ],
      "metadata": {
        "id": "Nj2NeRtVbDF-",
        "outputId": "729de912-3a05-470b-b931-a8aa201973a2",
        "colab": {
          "base_uri": "https://localhost:8080/"
        }
      },
      "execution_count": 11,
      "outputs": [
        {
          "output_type": "execute_result",
          "data": {
            "text/plain": [
              "550"
            ]
          },
          "metadata": {},
          "execution_count": 11
        }
      ]
    },
    {
      "cell_type": "markdown",
      "source": [
        "We can mix addition and subtraction. Python will follow the [order of operations](https://www.splashlearn.com/math-vocabulary/algebra/order-of-operations); addition and subtraction proceed left to right."
      ],
      "metadata": {
        "id": "3bABMSNlbGYz"
      }
    },
    {
      "cell_type": "code",
      "metadata": {
        "id": "5cRhCAMJdTrd",
        "outputId": "33bfd2b1-a3ea-44e9-9e9f-2f9cb3922fd1",
        "colab": {
          "base_uri": "https://localhost:8080/"
        }
      },
      "source": [
        "100 - 23 + 7 - 4"
      ],
      "execution_count": 12,
      "outputs": [
        {
          "output_type": "execute_result",
          "data": {
            "text/plain": [
              "80"
            ]
          },
          "metadata": {},
          "execution_count": 12
        }
      ]
    },
    {
      "cell_type": "markdown",
      "metadata": {
        "id": "hOQvmVL08slt"
      },
      "source": [
        "If you want to change the order of operations, you can enclose parts of the calculation in parentheses. "
      ]
    },
    {
      "cell_type": "code",
      "metadata": {
        "id": "O_eWUUYLdZSt",
        "outputId": "1a9c949c-8f1b-4ac7-9b27-d051bd9026be",
        "colab": {
          "base_uri": "https://localhost:8080/"
        }
      },
      "source": [
        "100 - (23 + 7) - 4"
      ],
      "execution_count": 13,
      "outputs": [
        {
          "output_type": "execute_result",
          "data": {
            "text/plain": [
              "66"
            ]
          },
          "metadata": {},
          "execution_count": 13
        }
      ]
    },
    {
      "cell_type": "markdown",
      "metadata": {
        "id": "_XZgJLHShxm9"
      },
      "source": [
        "We can multiply, too, using an asterisk."
      ]
    },
    {
      "cell_type": "code",
      "metadata": {
        "id": "gzerVVV4h3iK",
        "outputId": "360a5cd6-4454-4b5f-9f50-288dcb4110b9",
        "colab": {
          "base_uri": "https://localhost:8080/"
        }
      },
      "source": [
        "33 * 12"
      ],
      "execution_count": 14,
      "outputs": [
        {
          "output_type": "execute_result",
          "data": {
            "text/plain": [
              "396"
            ]
          },
          "metadata": {},
          "execution_count": 14
        }
      ]
    },
    {
      "cell_type": "code",
      "source": [
        "25 * 8"
      ],
      "metadata": {
        "id": "_C2qVMjGTWNn",
        "outputId": "d3fcb734-7217-4c33-bd18-a63752949958",
        "colab": {
          "base_uri": "https://localhost:8080/"
        }
      },
      "execution_count": 15,
      "outputs": [
        {
          "output_type": "execute_result",
          "data": {
            "text/plain": [
              "200"
            ]
          },
          "metadata": {},
          "execution_count": 15
        }
      ]
    },
    {
      "cell_type": "markdown",
      "metadata": {
        "id": "2huT5nY99L72"
      },
      "source": [
        "Different arithmetic operations can be mixed. Note that multiplication occurs before addition and subtraction, so ordering matters."
      ]
    },
    {
      "cell_type": "code",
      "metadata": {
        "id": "qjfwIoZydhIu",
        "outputId": "473d5bf1-9ef0-419e-d4c2-ed7711e4000d",
        "colab": {
          "base_uri": "https://localhost:8080/"
        }
      },
      "source": [
        "2 * 10 - 4 + 3 * 6"
      ],
      "execution_count": 16,
      "outputs": [
        {
          "output_type": "execute_result",
          "data": {
            "text/plain": [
              "34"
            ]
          },
          "metadata": {},
          "execution_count": 16
        }
      ]
    },
    {
      "cell_type": "markdown",
      "source": [
        "If you want to change the natural order, again, you can use parentheses."
      ],
      "metadata": {
        "id": "Uk2uRq8YTbzr"
      }
    },
    {
      "cell_type": "code",
      "source": [
        "2 * (10 - 4) + 3 * 6"
      ],
      "metadata": {
        "id": "T5971H_KTg3X",
        "outputId": "ba09a517-4020-45d5-bca7-1833994e12ef",
        "colab": {
          "base_uri": "https://localhost:8080/"
        }
      },
      "execution_count": 17,
      "outputs": [
        {
          "output_type": "execute_result",
          "data": {
            "text/plain": [
              "30"
            ]
          },
          "metadata": {},
          "execution_count": 17
        }
      ]
    },
    {
      "cell_type": "markdown",
      "metadata": {
        "id": "oM_A6QVdh36-"
      },
      "source": [
        "Division uses a forward slash."
      ]
    },
    {
      "cell_type": "code",
      "metadata": {
        "id": "iGT8UYFmh5FN",
        "outputId": "e4fc3e63-4563-42cb-a9e9-6e9cdb91e125",
        "colab": {
          "base_uri": "https://localhost:8080/"
        }
      },
      "source": [
        "20 / 5"
      ],
      "execution_count": 18,
      "outputs": [
        {
          "output_type": "execute_result",
          "data": {
            "text/plain": [
              "4.0"
            ]
          },
          "metadata": {},
          "execution_count": 18
        }
      ]
    },
    {
      "cell_type": "code",
      "source": [
        "81 / 3"
      ],
      "metadata": {
        "id": "5ey1H1IoTqqr",
        "outputId": "8a08faa2-94f7-4d03-a49a-dbbc16c97e00",
        "colab": {
          "base_uri": "https://localhost:8080/"
        }
      },
      "execution_count": 19,
      "outputs": [
        {
          "output_type": "execute_result",
          "data": {
            "text/plain": [
              "27.0"
            ]
          },
          "metadata": {},
          "execution_count": 19
        }
      ]
    },
    {
      "cell_type": "code",
      "source": [
        "77 / 11"
      ],
      "metadata": {
        "id": "hPmSsbGNTrxf",
        "outputId": "eb90dc15-701e-4fd0-dc62-1b438aad12ce",
        "colab": {
          "base_uri": "https://localhost:8080/"
        }
      },
      "execution_count": 20,
      "outputs": [
        {
          "output_type": "execute_result",
          "data": {
            "text/plain": [
              "7.0"
            ]
          },
          "metadata": {},
          "execution_count": 20
        }
      ]
    },
    {
      "cell_type": "markdown",
      "source": [
        "Note that when necessary, the result of a division operation can be a decimal. For example, `12 / 5` will result in `2.4`."
      ],
      "metadata": {
        "id": "EAD8a7v6TuGk"
      }
    },
    {
      "cell_type": "code",
      "source": [
        "12 / 5"
      ],
      "metadata": {
        "id": "LVX4ghedT6C6",
        "outputId": "ef74efcd-6c95-4cfa-e346-87de8a009501",
        "colab": {
          "base_uri": "https://localhost:8080/"
        }
      },
      "execution_count": 21,
      "outputs": [
        {
          "output_type": "execute_result",
          "data": {
            "text/plain": [
              "2.4"
            ]
          },
          "metadata": {},
          "execution_count": 21
        }
      ]
    },
    {
      "cell_type": "markdown",
      "metadata": {
        "id": "FwqQmqhUbWHV"
      },
      "source": [
        "If we want to use integer division (also called floor division), we use a double forward slash. This drops off the decimal portion - so `12 // 5` will give you `2` and not `2.4`."
      ]
    },
    {
      "cell_type": "code",
      "metadata": {
        "id": "003gMrEebgVi",
        "outputId": "b3498857-f9cd-4bd4-cc56-bc54e0443046",
        "colab": {
          "base_uri": "https://localhost:8080/"
        }
      },
      "source": [
        "12 // 5"
      ],
      "execution_count": 22,
      "outputs": [
        {
          "output_type": "execute_result",
          "data": {
            "text/plain": [
              "2"
            ]
          },
          "metadata": {},
          "execution_count": 22
        }
      ]
    },
    {
      "cell_type": "markdown",
      "source": [
        "There are times where you might need an integer, or you need to work with only the integer part of a number - especially in more complex algorithms.\n",
        "\n",
        "Try running each of the code blocks below, so that you can see the difference between regular division and floor division."
      ],
      "metadata": {
        "id": "hQikSqyYcNqq"
      }
    },
    {
      "cell_type": "code",
      "source": [
        "50 / 11"
      ],
      "metadata": {
        "id": "Qxx5GXFscSxR",
        "outputId": "5188b2c3-2bfc-452e-c0f5-f9b58f18b7ea",
        "colab": {
          "base_uri": "https://localhost:8080/"
        }
      },
      "execution_count": 23,
      "outputs": [
        {
          "output_type": "execute_result",
          "data": {
            "text/plain": [
              "4.545454545454546"
            ]
          },
          "metadata": {},
          "execution_count": 23
        }
      ]
    },
    {
      "cell_type": "code",
      "source": [
        "50 // 11"
      ],
      "metadata": {
        "id": "lVOUAyP3cUX2",
        "outputId": "ba805788-aeb4-471a-f8f9-da7be9ba7497",
        "colab": {
          "base_uri": "https://localhost:8080/"
        }
      },
      "execution_count": 24,
      "outputs": [
        {
          "output_type": "execute_result",
          "data": {
            "text/plain": [
              "4"
            ]
          },
          "metadata": {},
          "execution_count": 24
        }
      ]
    },
    {
      "cell_type": "code",
      "source": [
        "25 / 8"
      ],
      "metadata": {
        "id": "kZ2pAR7VcbEY",
        "outputId": "22f3b6ca-6e26-48ca-8b07-70045767745c",
        "colab": {
          "base_uri": "https://localhost:8080/"
        }
      },
      "execution_count": 25,
      "outputs": [
        {
          "output_type": "execute_result",
          "data": {
            "text/plain": [
              "3.125"
            ]
          },
          "metadata": {},
          "execution_count": 25
        }
      ]
    },
    {
      "cell_type": "code",
      "source": [
        "25 // 8"
      ],
      "metadata": {
        "id": "gFFv3NbuceP0",
        "outputId": "eba91494-34fb-4407-991f-3999778340a5",
        "colab": {
          "base_uri": "https://localhost:8080/"
        }
      },
      "execution_count": 28,
      "outputs": [
        {
          "output_type": "execute_result",
          "data": {
            "text/plain": [
              "3"
            ]
          },
          "metadata": {},
          "execution_count": 28
        }
      ]
    },
    {
      "cell_type": "markdown",
      "source": [
        "We're not just limited to integer numbers - we can also use decimal numbers."
      ],
      "metadata": {
        "id": "3abbyUXvZmdv"
      }
    },
    {
      "cell_type": "code",
      "source": [
        "3.5 * 17.2"
      ],
      "metadata": {
        "id": "MsmL4FfKZpNg",
        "outputId": "ac3db456-2aef-4390-d375-87b66e5c0af9",
        "colab": {
          "base_uri": "https://localhost:8080/"
        }
      },
      "execution_count": 29,
      "outputs": [
        {
          "output_type": "execute_result",
          "data": {
            "text/plain": [
              "60.199999999999996"
            ]
          },
          "metadata": {},
          "execution_count": 29
        }
      ]
    },
    {
      "cell_type": "code",
      "source": [
        "2.7 + 3.4"
      ],
      "metadata": {
        "id": "2_wZsBxxZrKG",
        "outputId": "75b0d09b-2af0-4dee-cdaf-1fac5bdaff80",
        "colab": {
          "base_uri": "https://localhost:8080/"
        }
      },
      "execution_count": 30,
      "outputs": [
        {
          "output_type": "execute_result",
          "data": {
            "text/plain": [
              "6.1"
            ]
          },
          "metadata": {},
          "execution_count": 30
        }
      ]
    },
    {
      "cell_type": "code",
      "source": [
        "2.5 * 10.25 - 4.75 + 3.5 * 6.25"
      ],
      "metadata": {
        "id": "wCJZUxojZs2U",
        "outputId": "064597e3-58ec-42ea-96ff-0b38acc2e415",
        "colab": {
          "base_uri": "https://localhost:8080/"
        }
      },
      "execution_count": 31,
      "outputs": [
        {
          "output_type": "execute_result",
          "data": {
            "text/plain": [
              "42.75"
            ]
          },
          "metadata": {},
          "execution_count": 31
        }
      ]
    },
    {
      "cell_type": "markdown",
      "metadata": {
        "id": "MUTzmouUEfv6"
      },
      "source": [
        "## Comments"
      ]
    },
    {
      "cell_type": "markdown",
      "metadata": {
        "id": "A7vOvmbWEhY4"
      },
      "source": [
        "**Comments** are a way to explain what's going on in your code, or why it's happening. It's a good way to write notes to your future self when you have to read it later; comments might also be useful to other people who might have to read your code. Python ignores your comments - they're just for human readers.\n",
        "\n",
        "Comments are simple in Python, and it's a good idea to add some substantial comments to your code for clarity. In Python, there are 2 types of comments; single line comments and multi-line comments.\n",
        "\n",
        "One thing to note: if you run the code blocks below, you'll find that they don't do anything - and that's the point! Again, Python ignores the comments - they're just to help other people understand what the code is doing, or why it's doing it."
      ]
    },
    {
      "cell_type": "markdown",
      "source": [
        "Single line comments are created using the octothorpe (aka the pound or number sign)."
      ],
      "metadata": {
        "id": "FV4P9v5Vg9XX"
      }
    },
    {
      "cell_type": "code",
      "metadata": {
        "id": "Wi8nnRg_ErRS"
      },
      "source": [
        "# Most comments in Python start w/ an octothorpe (also known as the pound sign).\n",
        "# You can have as many of these as you like as long as they start with '#'."
      ],
      "execution_count": 32,
      "outputs": []
    },
    {
      "cell_type": "markdown",
      "metadata": {
        "id": "zJdR1oAREshM"
      },
      "source": [
        "Multi line comments can use 3 single quotes."
      ]
    },
    {
      "cell_type": "code",
      "metadata": {
        "id": "g3ggaz0jEusV",
        "outputId": "8d00c376-bea6-4112-95ef-3d8eb4a0a608",
        "colab": {
          "base_uri": "https://localhost:8080/",
          "height": 35
        }
      },
      "source": [
        "''' Multi-line comments in Python can be created with 3 single quotes '''"
      ],
      "execution_count": 34,
      "outputs": [
        {
          "output_type": "execute_result",
          "data": {
            "text/plain": [
              "' Multi-line comments in Python can be created with 3 single quotes '"
            ],
            "application/vnd.google.colaboratory.intrinsic+json": {
              "type": "string"
            }
          },
          "metadata": {},
          "execution_count": 34
        }
      ]
    },
    {
      "cell_type": "markdown",
      "source": [
        "Multi-line comments can also use 3 double quotes."
      ],
      "metadata": {
        "id": "XlRbhGVahK-0"
      }
    },
    {
      "cell_type": "code",
      "source": [
        "\"\"\" \n",
        "  Three\n",
        "  double\n",
        "  quotes\n",
        "  is\n",
        "  also\n",
        "  ok\n",
        "\"\"\""
      ],
      "metadata": {
        "id": "wSfLPmH6hONl",
        "outputId": "792b1d29-d2b7-4c3d-c10d-8fc68f538a1b",
        "colab": {
          "base_uri": "https://localhost:8080/",
          "height": 35
        }
      },
      "execution_count": 35,
      "outputs": [
        {
          "output_type": "execute_result",
          "data": {
            "text/plain": [
              "' \\n  Three\\n  double\\n  quotes\\n  is\\n  also\\n  ok\\n'"
            ],
            "application/vnd.google.colaboratory.intrinsic+json": {
              "type": "string"
            }
          },
          "metadata": {},
          "execution_count": 35
        }
      ]
    },
    {
      "cell_type": "markdown",
      "source": [
        "You're encouraged to add comments to clarify your own code; it's good to write comments any place where what your code is doing is unclear."
      ],
      "metadata": {
        "id": "hcSVsbJjU0B9"
      }
    },
    {
      "cell_type": "markdown",
      "metadata": {
        "id": "mWhxNxxycY6p"
      },
      "source": [
        "## Variables"
      ]
    },
    {
      "cell_type": "markdown",
      "metadata": {
        "id": "Gk8hJTvMcj6I"
      },
      "source": [
        "**Variables** are a place for us to store data in our Python code. Computers have memory, too, and by using this memory we can solve more and more complex problems.\n",
        "\n",
        "To declare a variable in Python, we just give it a descriptive name and **assign** a value to it. For example, the code below will create a variable called `number` and assign the `int` value `4` to it."
      ]
    },
    {
      "cell_type": "code",
      "source": [
        "number = 4"
      ],
      "metadata": {
        "id": "l5xhkR6liyEc"
      },
      "execution_count": 36,
      "outputs": []
    },
    {
      "cell_type": "markdown",
      "source": [
        "If we want to see what the value of `number` is in a Colab Notebook, we just enter the variable name. If you ran the code block above, and then run the code block below, you should see `4`."
      ],
      "metadata": {
        "id": "KGY39HmSizgf"
      }
    },
    {
      "cell_type": "code",
      "source": [
        "number"
      ],
      "metadata": {
        "id": "dQDN8oPci6sZ",
        "outputId": "be77398b-8a2f-4648-c401-bd7a8be38552",
        "colab": {
          "base_uri": "https://localhost:8080/"
        }
      },
      "execution_count": 37,
      "outputs": [
        {
          "output_type": "execute_result",
          "data": {
            "text/plain": [
              "4"
            ]
          },
          "metadata": {},
          "execution_count": 37
        }
      ]
    },
    {
      "cell_type": "markdown",
      "source": [
        "### Variable Names"
      ],
      "metadata": {
        "id": "_JYO3pe1mb_x"
      }
    },
    {
      "cell_type": "markdown",
      "source": [
        "In Python, our variable names will typically start with a letter. Variable names can include letters, numbers, and underscores. Variable names can't include spaces. \n",
        "\n",
        "Some valid variable names:\n",
        "* `number`\n",
        "* `number5`\n",
        "* `number_5`\n",
        "* `variablename`\n",
        "* `a_long_name_is_ok`\n",
        "\n",
        "Some variable names that aren't valid:\n",
        "* `5numbers` - invalid, because variable names can't start with a number.\n",
        "* `spaces are not ok` - invalid, because variable names can't have spaces.\n",
        "* `variable-name` - invalid, because variable names can't contain hyphens.\n",
        "\n",
        "More on Python variable naming rules is available [here](https://www.w3schools.com/python/gloss_python_variable_names.asp)."
      ],
      "metadata": {
        "id": "ETPOE4_Hjce4"
      }
    },
    {
      "cell_type": "markdown",
      "source": [
        "Another important point about variable names is that they are **case-sensitive**. This means that lower-case letters and upper-case letters are completely different in Python. For example, the following code block uses 2 different variable names."
      ],
      "metadata": {
        "id": "OBTjpYNml9pw"
      }
    },
    {
      "cell_type": "code",
      "source": [
        "value = 50\n",
        "Value = 100"
      ],
      "metadata": {
        "id": "ck2XCK9TmG4F"
      },
      "execution_count": 38,
      "outputs": []
    },
    {
      "cell_type": "markdown",
      "source": [
        "`value` starts with a lower case v. `Value` starts with an upper case V."
      ],
      "metadata": {
        "id": "zweIHc8zmM0w"
      }
    },
    {
      "cell_type": "code",
      "source": [
        "value"
      ],
      "metadata": {
        "id": "7XUoqtRjmW0z",
        "outputId": "740bf645-10f4-40c2-c07f-82b453abd513",
        "colab": {
          "base_uri": "https://localhost:8080/"
        }
      },
      "execution_count": 39,
      "outputs": [
        {
          "output_type": "execute_result",
          "data": {
            "text/plain": [
              "50"
            ]
          },
          "metadata": {},
          "execution_count": 39
        }
      ]
    },
    {
      "cell_type": "code",
      "source": [
        "Value"
      ],
      "metadata": {
        "id": "3IEHMUrQmXop",
        "outputId": "70f384ee-b8aa-43d3-b59b-cbbaa9bbc9e9",
        "colab": {
          "base_uri": "https://localhost:8080/"
        }
      },
      "execution_count": 40,
      "outputs": [
        {
          "output_type": "execute_result",
          "data": {
            "text/plain": [
              "100"
            ]
          },
          "metadata": {},
          "execution_count": 40
        }
      ]
    },
    {
      "cell_type": "markdown",
      "source": [
        "### Using Variables"
      ],
      "metadata": {
        "id": "ukIrOqyi9ZwR"
      }
    },
    {
      "cell_type": "markdown",
      "source": [
        "Variables can be used to perform calculations. We can start writing sequences of lines of code that perform particular operations."
      ],
      "metadata": {
        "id": "a6y6h83N9bWW"
      }
    },
    {
      "cell_type": "code",
      "source": [
        "number_five = 5\n",
        "one_more_than_five = number_five + 1\n",
        "one_more_than_five"
      ],
      "metadata": {
        "id": "wZ_yCH7T9-yW",
        "outputId": "dcde9899-4a6f-4932-d623-5540ccc60cf7",
        "colab": {
          "base_uri": "https://localhost:8080/"
        }
      },
      "execution_count": 41,
      "outputs": [
        {
          "output_type": "execute_result",
          "data": {
            "text/plain": [
              "6"
            ]
          },
          "metadata": {},
          "execution_count": 41
        }
      ]
    },
    {
      "cell_type": "markdown",
      "source": [
        "# Examples"
      ],
      "metadata": {
        "id": "oI2MnExVV8lO"
      }
    },
    {
      "cell_type": "markdown",
      "source": [
        "### Example 1 - Addition"
      ],
      "metadata": {
        "id": "4h3bvPahZEoy"
      }
    },
    {
      "cell_type": "markdown",
      "source": [
        "Joe has 3 apples. Sam has 2 apples. Pat has 4 bananas. Max has 2 peaches. Eva has 4 apples. How many apples are there in the group?"
      ],
      "metadata": {
        "id": "MNMQnh_qWblE"
      }
    },
    {
      "cell_type": "code",
      "source": [
        "# We can start by declaring variables for each person.\n",
        "joe_apples = 3\n",
        "sam_apples = 2\n",
        "pat_bananas = 4\n",
        "max_peaches = 2\n",
        "eva_apples = 4\n",
        "\n",
        "# Next, we can add the apples.\n",
        "total_apples = joe_apples + sam_apples + eva_apples\n",
        "total_apples"
      ],
      "metadata": {
        "id": "wyTPxKqKYH_B",
        "outputId": "132d1406-8b38-4567-a6c1-b6926309f3f4",
        "colab": {
          "base_uri": "https://localhost:8080/"
        }
      },
      "execution_count": 42,
      "outputs": [
        {
          "output_type": "execute_result",
          "data": {
            "text/plain": [
              "9"
            ]
          },
          "metadata": {},
          "execution_count": 42
        }
      ]
    },
    {
      "cell_type": "markdown",
      "source": [
        "How many total fruits are in the group?"
      ],
      "metadata": {
        "id": "wwip5DmJY3uW"
      }
    },
    {
      "cell_type": "code",
      "source": [
        "total_fruits = joe_apples + sam_apples + pat_bananas + max_peaches + eva_apples\n",
        "total_fruits"
      ],
      "metadata": {
        "id": "14KEggjtY5T_",
        "outputId": "79908692-c2d4-4044-f24e-2234da4f5b9e",
        "colab": {
          "base_uri": "https://localhost:8080/"
        }
      },
      "execution_count": 43,
      "outputs": [
        {
          "output_type": "execute_result",
          "data": {
            "text/plain": [
              "15"
            ]
          },
          "metadata": {},
          "execution_count": 43
        }
      ]
    },
    {
      "cell_type": "markdown",
      "source": [
        "Alternatively, you could have saved some work."
      ],
      "metadata": {
        "id": "FqHJFrBxZMx2"
      }
    },
    {
      "cell_type": "code",
      "source": [
        "total_fruits = total_apples + pat_bananas + max_peaches\n",
        "total_fruits"
      ],
      "metadata": {
        "id": "FmRcDPx3ZPf_",
        "outputId": "3e697295-f1ac-447e-93f9-e7e63bf1cb5e",
        "colab": {
          "base_uri": "https://localhost:8080/"
        }
      },
      "execution_count": 44,
      "outputs": [
        {
          "output_type": "execute_result",
          "data": {
            "text/plain": [
              "15"
            ]
          },
          "metadata": {},
          "execution_count": 44
        }
      ]
    },
    {
      "cell_type": "markdown",
      "source": [
        "### Example 2 - Area of a Square"
      ],
      "metadata": {
        "id": "RgrdYyy2ZADA"
      }
    },
    {
      "cell_type": "markdown",
      "source": [
        "The code below can calculate the area of a square. It's simple - the area of a square is just the length of a side, multiplied by the length of a side. Since in a square all the side lenghts are the same, it's really easy."
      ],
      "metadata": {
        "id": "z0ZIb68NWBh0"
      }
    },
    {
      "cell_type": "code",
      "source": [
        "side = 19\n",
        "area = side * side\n",
        "area"
      ],
      "metadata": {
        "id": "gdwyPWbpWXAh",
        "outputId": "87d720f2-aafe-4e11-c8e5-e6e68305d0bf",
        "colab": {
          "base_uri": "https://localhost:8080/"
        }
      },
      "execution_count": 45,
      "outputs": [
        {
          "output_type": "execute_result",
          "data": {
            "text/plain": [
              "361"
            ]
          },
          "metadata": {},
          "execution_count": 45
        }
      ]
    },
    {
      "cell_type": "markdown",
      "source": [
        "### Example 3 - Percentages"
      ],
      "metadata": {
        "id": "v3hDtN89ZZDA"
      }
    },
    {
      "cell_type": "markdown",
      "source": [
        "What is 75% of 2612?"
      ],
      "metadata": {
        "id": "e2U8xKDBZ54i"
      }
    },
    {
      "cell_type": "code",
      "source": [
        "number = 2612\n",
        "percentage = 0.75\n",
        "result = number * percentage\n",
        "result"
      ],
      "metadata": {
        "id": "QZyrBrg3aHqc",
        "outputId": "14f5db36-8676-49e6-b565-c58a91af0854",
        "colab": {
          "base_uri": "https://localhost:8080/"
        }
      },
      "execution_count": 46,
      "outputs": [
        {
          "output_type": "execute_result",
          "data": {
            "text/plain": [
              "1959.0"
            ]
          },
          "metadata": {},
          "execution_count": 46
        }
      ]
    },
    {
      "cell_type": "markdown",
      "source": [
        "What is the value of a 30% discount on a shirt that costs $29.99?"
      ],
      "metadata": {
        "id": "5DQhepU9aV3z"
      }
    },
    {
      "cell_type": "code",
      "source": [
        "discount = 0.3\n",
        "shirt_price = 29.99\n",
        "discount_value = discount * shirt_price\n",
        "discount_value"
      ],
      "metadata": {
        "id": "GLsnfZviacfl",
        "outputId": "a7202a84-48b5-4fd3-c230-b39115a06444",
        "colab": {
          "base_uri": "https://localhost:8080/"
        }
      },
      "execution_count": 47,
      "outputs": [
        {
          "output_type": "execute_result",
          "data": {
            "text/plain": [
              "8.997"
            ]
          },
          "metadata": {},
          "execution_count": 47
        }
      ]
    },
    {
      "cell_type": "markdown",
      "metadata": {
        "id": "9GLqgmhRI24y"
      },
      "source": [
        "# Try It!"
      ]
    },
    {
      "cell_type": "markdown",
      "metadata": {
        "id": "l8lfaQE9l41l"
      },
      "source": [
        "## Variables and Calculations"
      ]
    },
    {
      "cell_type": "markdown",
      "metadata": {
        "id": "Rnz_DkojI6nK"
      },
      "source": [
        "Now that you know some Python basics, how would you teach someone basic arithmetic in Python? Use the code block below to write and test a few examples.\n",
        "\n",
        "* If sales tax is 6%, how much sales tax do you pay on a purchase of $7.98?\n",
        "* What's the area of a triangle if its height is 8.2 and its base is 3.5?\n",
        "* Assuming pi = 3.14, what's the circumference of a circle if its diameter is 19?"
      ]
    },
    {
      "cell_type": "code",
      "metadata": {
        "id": "q6G0SRaKJQgo",
        "outputId": "83559bef-fa35-4eb6-8216-f46f4c2f3683",
        "colab": {
          "base_uri": "https://localhost:8080/"
        }
      },
      "source": [
        "tax = 0.06\n",
        "purchase = 7.98\n",
        "amount = tax * purchase\n",
        "amount"
      ],
      "execution_count": 49,
      "outputs": [
        {
          "output_type": "execute_result",
          "data": {
            "text/plain": [
              "0.4788"
            ]
          },
          "metadata": {},
          "execution_count": 49
        }
      ]
    },
    {
      "cell_type": "code",
      "metadata": {
        "id": "5KvoKdVqk4RV",
        "outputId": "f31580b5-039b-4524-c762-fd215bd4ebac",
        "colab": {
          "base_uri": "https://localhost:8080/"
        }
      },
      "source": [
        "height = 8.2\n",
        "base = 3.5\n",
        "# the area of a triangle is one half its base times its height.\n",
        "area = .5 * base * height\n",
        "area"
      ],
      "execution_count": 54,
      "outputs": [
        {
          "output_type": "execute_result",
          "data": {
            "text/plain": [
              "14.349999999999998"
            ]
          },
          "metadata": {},
          "execution_count": 54
        }
      ]
    },
    {
      "cell_type": "code",
      "metadata": {
        "id": "N7vgDcGwk58i",
        "outputId": "a724ce8f-111c-44cf-abc2-e9cca687ceac",
        "colab": {
          "base_uri": "https://localhost:8080/"
        }
      },
      "source": [
        "pi = 3.14\n",
        "diameter = 19\n",
        "# circumference is the diameter multiplied by pi.\n",
        "circ = diameter * pi\n",
        "circ"
      ],
      "execution_count": 56,
      "outputs": [
        {
          "output_type": "execute_result",
          "data": {
            "text/plain": [
              "59.660000000000004"
            ]
          },
          "metadata": {},
          "execution_count": 56
        }
      ]
    }
  ]
}